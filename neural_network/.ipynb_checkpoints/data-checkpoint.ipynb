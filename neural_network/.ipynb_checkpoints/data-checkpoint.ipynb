{
 "cells": [
  {
   "cell_type": "code",
   "execution_count": 1,
   "metadata": {},
   "outputs": [],
   "source": [
    "import pandas as pd\n",
    "import numpy as np\n",
    "import random"
   ]
  },
  {
   "cell_type": "markdown",
   "metadata": {},
   "source": [
    "## Correlation of metrics\n",
    "Emotion - Moderate-Highcorrelation with engagement, behaviors and attentiveness\n",
    "\n",
    "HeadGaze - Moderate-High Correlation, facing front fairly justify attentivness, looking away is obvious disengagement\n",
    "\n",
    "Motion - Low-Moderate Correlation, increasing micro-motions shows correlation with attentivness (Reseach Article)\n",
    "\n",
    "HandPose - High Correlation, raising hands definitely engagement with current session \n",
    "\n",
    "SleepPose - High correlation, detected = not engaged\n",
    "\n",
    "Correlation ranking\n",
    "1. HandPose\n",
    "2. SleepPose\n",
    "3. Emotion\n",
    "4. HeadGaze\n",
    "5. Motion\n",
    "\n",
    "### Futhermore, we split the various metrices into their individual components/ranking\n",
    "1. HandPose (1 if raised, 0 if not)\n",
    "2. SleepPose (1 if sleep, 0 if not)\n",
    "3. Emotion\n",
    "\n",
    "    a. Happy\n",
    "\n",
    "    b. Angry\n",
    "    \n",
    "    c. Disgusted\n",
    "    \n",
    "    d. Fearful\n",
    "    \n",
    "    e. Neutral\n",
    "    \n",
    "    f. Sad\n",
    "    \n",
    "    g. Surprised\n",
    "    \n",
    "    \n",
    "4. HeadGaze (2 if facing front, 1 if sideways, 0 if back)\n",
    "\n",
    "5. Motion tbc"
   ]
  },
  {
   "cell_type": "code",
   "execution_count": 3,
   "metadata": {},
   "outputs": [],
   "source": [
    "categories = ['Happy', 'Angry', 'Disgusted','Sad', 'Neutral', 'HandRaised', 'Sleep', 'HeadGaze', 'Engagement']\n",
    "emo_list = ['Happy', 'Angry', 'Disgusted', 'Sad', 'Neutral']\n",
    "\n",
    "df = pd.DataFrame(index = range(0,5000), columns = categories)"
   ]
  },
  {
   "cell_type": "code",
   "execution_count": 4,
   "metadata": {},
   "outputs": [],
   "source": [
    "def inputEmotions(df, emo_list):\n",
    "    for row in range(5000):\n",
    "        #generate a random probability function (array) which adds up to one, returns a list of list after .tolist()\n",
    "        randArray = np.array(np.random.dirichlet(np.ones(5), size = 1)).tolist()[0]\n",
    "        for i in range(5):\n",
    "            df[emo_list[i]].iloc[row] = randArray[i] "
   ]
  },
  {
   "cell_type": "code",
   "execution_count": 5,
   "metadata": {},
   "outputs": [],
   "source": [
    "#we split the categories here carefully because they shouldnt conflict\n",
    "\n",
    "def _handRaised(x):\n",
    "    return 1\n",
    "\n",
    "def _handMid(x):\n",
    "    return random.randint(0,1)\n",
    "\n",
    "def _handNotRaised(x):\n",
    "    return 0\n",
    "\n",
    "def _handRandom(x):\n",
    "    return random.randint(0,1)\n",
    "\n",
    "def _sleep(x):\n",
    "    return 1\n",
    "\n",
    "def _notSleep(x):\n",
    "    return 0\n",
    "\n",
    "def _sleepRandom(x):\n",
    "    return random.randint(0,1)\n",
    "\n",
    "def _headFront(x):\n",
    "    return 2\n",
    "\n",
    "def _headModerate(x):\n",
    "    return random.randint(1,2)\n",
    "\n",
    "def _headNotFront(x):\n",
    "    return random.randint(0,1)\n",
    "\n",
    "def _headRandom(x):\n",
    "    return random.randint(0,2)\n",
    "\n",
    "def _engagedHigh(x):\n",
    "    return random.randint(2,3)\n",
    "\n",
    "def _engagedMid(x):\n",
    "    return random.randint(1,2)\n",
    "\n",
    "def _engagedLow(x):\n",
    "    return random.randint(1,1)\n",
    "\n",
    "def _engagedNoise(x):\n",
    "    return random.randint(1,3)"
   ]
  },
  {
   "cell_type": "markdown",
   "metadata": {},
   "source": [
    "## Synthetic Data\n",
    "1. We work with 3000 training examples with this neural network\n",
    "2. Assuming 10% noise in data, we work with 2700 reliable datasets, 300 noise datsets (random labels)\n",
    "3. Breaking down the 2700 training examples\n",
    "\n",
    "#### we break into high, middle and low tier ratings with a few simple rules in place to guide the model to learn\n",
    "1. high - high happy probability, moderate-low angry/disgusted, handraised 1, sleep 0, headgaze 2\n",
    "2. mid - moderate emotions probability, handraise random, sleep 0, headgaze 1-2\n",
    "3. low - low happy probability, moderate-high angry/disgusted, handraised 0, sleep 0/1, headgaze 0,1\n",
    "4. noise - all are noise\n",
    "5. engagement - we will take softmax of range 1 to 5, 4-5 being most engaged, 2-3 being mildly engaged, 1 least engaged"
   ]
  },
  {
   "cell_type": "code",
   "execution_count": 6,
   "metadata": {},
   "outputs": [],
   "source": [
    "inputEmotions(df , emo_list)"
   ]
  },
  {
   "cell_type": "code",
   "execution_count": 111,
   "metadata": {},
   "outputs": [],
   "source": [
    "#sort df by happy vs not happy\n",
    "df = df.sort_values(by = ['Happy'], ascending = False)"
   ]
  },
  {
   "cell_type": "code",
   "execution_count": 115,
   "metadata": {},
   "outputs": [
    {
     "data": {
      "text/html": [
       "<div>\n",
       "<style scoped>\n",
       "    .dataframe tbody tr th:only-of-type {\n",
       "        vertical-align: middle;\n",
       "    }\n",
       "\n",
       "    .dataframe tbody tr th {\n",
       "        vertical-align: top;\n",
       "    }\n",
       "\n",
       "    .dataframe thead th {\n",
       "        text-align: right;\n",
       "    }\n",
       "</style>\n",
       "<table border=\"1\" class=\"dataframe\">\n",
       "  <thead>\n",
       "    <tr style=\"text-align: right;\">\n",
       "      <th></th>\n",
       "      <th>Happy</th>\n",
       "      <th>Angry</th>\n",
       "      <th>Disgusted</th>\n",
       "      <th>HandRaised</th>\n",
       "      <th>Sleep</th>\n",
       "      <th>HeadGaze</th>\n",
       "      <th>Engagement</th>\n",
       "    </tr>\n",
       "  </thead>\n",
       "  <tbody>\n",
       "    <tr>\n",
       "      <th>2985</th>\n",
       "      <td>0.991619</td>\n",
       "      <td>0.000747417</td>\n",
       "      <td>0.00763332</td>\n",
       "      <td>1</td>\n",
       "      <td>0</td>\n",
       "      <td>2</td>\n",
       "      <td>2</td>\n",
       "    </tr>\n",
       "    <tr>\n",
       "      <th>2518</th>\n",
       "      <td>0.982781</td>\n",
       "      <td>0.000692866</td>\n",
       "      <td>0.0165257</td>\n",
       "      <td>1</td>\n",
       "      <td>0</td>\n",
       "      <td>2</td>\n",
       "      <td>3</td>\n",
       "    </tr>\n",
       "    <tr>\n",
       "      <th>2466</th>\n",
       "      <td>0.982054</td>\n",
       "      <td>0.0137959</td>\n",
       "      <td>0.00414987</td>\n",
       "      <td>1</td>\n",
       "      <td>0</td>\n",
       "      <td>2</td>\n",
       "      <td>2</td>\n",
       "    </tr>\n",
       "    <tr>\n",
       "      <th>2462</th>\n",
       "      <td>0.971565</td>\n",
       "      <td>0.0143051</td>\n",
       "      <td>0.0141304</td>\n",
       "      <td>1</td>\n",
       "      <td>0</td>\n",
       "      <td>2</td>\n",
       "      <td>2</td>\n",
       "    </tr>\n",
       "    <tr>\n",
       "      <th>122</th>\n",
       "      <td>0.971011</td>\n",
       "      <td>0.0181972</td>\n",
       "      <td>0.0107917</td>\n",
       "      <td>1</td>\n",
       "      <td>0</td>\n",
       "      <td>2</td>\n",
       "      <td>2</td>\n",
       "    </tr>\n",
       "  </tbody>\n",
       "</table>\n",
       "</div>"
      ],
      "text/plain": [
       "         Happy        Angry   Disgusted HandRaised Sleep HeadGaze Engagement\n",
       "2985  0.991619  0.000747417  0.00763332          1     0        2          2\n",
       "2518  0.982781  0.000692866   0.0165257          1     0        2          3\n",
       "2466  0.982054    0.0137959  0.00414987          1     0        2          2\n",
       "2462  0.971565    0.0143051   0.0141304          1     0        2          2\n",
       "122   0.971011    0.0181972   0.0107917          1     0        2          2"
      ]
     },
     "execution_count": 115,
     "metadata": {},
     "output_type": "execute_result"
    }
   ],
   "source": [
    "df.head()"
   ]
  },
  {
   "cell_type": "markdown",
   "metadata": {},
   "source": [
    "##### We will sort 900 rows of each tier (high, mid, low), along with 100 each of noise into the NN"
   ]
  },
  {
   "cell_type": "code",
   "execution_count": 114,
   "metadata": {},
   "outputs": [],
   "source": [
    "#High\n",
    "df['HandRaised'][:900] = df['HandRaised'][:900].apply(lambda x: _handRaised(x))\n",
    "df['HandRaised'][900:1000] = df['HandRaised'][900:1000].apply(lambda x: _handRandom(x))\n",
    "df['Sleep'][:900] = df['Sleep'][:900].apply(lambda x: _notSleep(x))\n",
    "df['Sleep'][900:1000] = df['Sleep'][900:1000].apply(lambda x: _sleepRandom(x))\n",
    "df['HeadGaze'][:900] = df['HeadGaze'][:900].apply(lambda x: _headFront(x))\n",
    "df['HeadGaze'][900:1000] = df['HeadGaze'][900:1000].apply(lambda x: _headRandom(x))\n",
    "\n",
    "df['Engagement'][:900] = df['Engagement'][:900].apply(lambda x: _engagedHigh(x))\n",
    "df['Engagement'][900:1000] = df['Engagement'][900:1000].apply(lambda x: _engagedNoise(x))\n",
    "\n",
    "#Mid\n",
    "df['HandRaised'][1000:1900] = df['HandRaised'][1000:1900].apply(lambda x: _handMid(x))\n",
    "df['HandRaised'][1900:2000] = df['HandRaised'][1900:2000].apply(lambda x: _handRandom(x))\n",
    "df['Sleep'][1000:1900] = df['Sleep'][1000:1900].apply(lambda x: _notSleep(x))\n",
    "df['Sleep'][1900:2000] = df['Sleep'][1900:2000].apply(lambda x: _sleepRandom(x))\n",
    "df['HeadGaze'][1000:1900] = df['HeadGaze'][1000:1900].apply(lambda x: _headModerate(x))\n",
    "df['HeadGaze'][1900:2000] = df['HeadGaze'][1900:2000].apply(lambda x: _headRandom(x))\n",
    "\n",
    "df['Engagement'][1000:1900] = df['Engagement'][1000:1900].apply(lambda x: _engagedMid(x))\n",
    "df['Engagement'][1900:2000] = df['Engagement'][1900:2000].apply(lambda x: _engagedNoise(x))\n",
    "\n",
    "#Low\n",
    "df['HandRaised'][2000:2900] = df['HandRaised'][2000:2900].apply(lambda x: _handNotRaised(x))\n",
    "df['HandRaised'][2900:3000] = df['HandRaised'][2900:3000].apply(lambda x: _handNotRaised(x))\n",
    "df['Sleep'][2000:2900] = df['Sleep'][2000:2900].apply(lambda x: _sleepRandom(x))\n",
    "df['Sleep'][2900:3000] = df['Sleep'][2900:3000].apply(lambda x: _sleepRandom(x))\n",
    "df['HeadGaze'][2000:2900] = df['HeadGaze'][2000:2900].apply(lambda x: _headNotFront(x))\n",
    "df['HeadGaze'][2900:3000] = df['HeadGaze'][2900:3000].apply(lambda x: _headRandom(x))\n",
    "\n",
    "df['Engagement'][2000:2900] = df['Engagement'][2000:2900].apply(lambda x: _engagedLow(x))\n",
    "df['Engagement'][2900:3000] = df['Engagement'][2900:3000].apply(lambda x: _engagedNoise(x))"
   ]
  },
  {
   "cell_type": "code",
   "execution_count": 116,
   "metadata": {},
   "outputs": [
    {
     "data": {
      "text/plain": [
       "(3000, 7)"
      ]
     },
     "execution_count": 116,
     "metadata": {},
     "output_type": "execute_result"
    }
   ],
   "source": [
    "df.shape"
   ]
  },
  {
   "cell_type": "code",
   "execution_count": 120,
   "metadata": {},
   "outputs": [],
   "source": [
    "df = df[df['Happy'] <= 0.80]  \n",
    "df = df[df['Angry'] <= 0.80] \n",
    "df = df[df['Disgusted'] <= 0.80]  "
   ]
  },
  {
   "cell_type": "code",
   "execution_count": 17,
   "metadata": {},
   "outputs": [],
   "source": []
  },
  {
   "cell_type": "code",
   "execution_count": 130,
   "metadata": {},
   "outputs": [],
   "source": [
    "df.to_csv('data.csv', index=False, header=False  )"
   ]
  },
  {
   "cell_type": "code",
   "execution_count": 44,
   "metadata": {},
   "outputs": [],
   "source": [
    "%matplotlib inline"
   ]
  },
  {
   "cell_type": "code",
   "execution_count": 126,
   "metadata": {},
   "outputs": [
    {
     "data": {
      "image/png": "[encoded data removed]",
      "text/plain": [
       "<Figure size 432x288 with 1 Axes>"
      ]
     },
     "metadata": {
      "needs_background": "light"
     },
     "output_type": "display_data"
    }
   ],
   "source": [
    "import seaborn as sns\n",
    "import matplotlib.pyplot as plt\n",
    "\n",
    "sns.distplot(df['Happy']);\n"
   ]
  },
  {
   "cell_type": "code",
   "execution_count": 127,
   "metadata": {},
   "outputs": [
    {
     "data": {
      "image/png": "[encoded data removed]",
      "text/plain": [
       "<Figure size 432x288 with 1 Axes>"
      ]
     },
     "metadata": {
      "needs_background": "light"
     },
     "output_type": "display_data"
    }
   ],
   "source": [
    "sns.distplot(df['Angry']);"
   ]
  },
  {
   "cell_type": "code",
   "execution_count": 128,
   "metadata": {},
   "outputs": [
    {
     "data": {
      "image/png": "[encoded data removed]",
      "text/plain": [
       "<Figure size 432x288 with 1 Axes>"
      ]
     },
     "metadata": {
      "needs_background": "light"
     },
     "output_type": "display_data"
    }
   ],
   "source": [
    "sns.distplot(df['Disgusted']);"
   ]
  },
  {
   "cell_type": "code",
   "execution_count": 124,
   "metadata": {},
   "outputs": [],
   "source": [
    "def check(x):\n",
    "    if x[0] + x[1] + x[2] == 1.0:\n",
    "        return True\n",
    "    else:\n",
    "        return False\n",
    "    \n",
    "df['status'] = df.apply(check, axis=1)"
   ]
  },
  {
   "cell_type": "code",
   "execution_count": 125,
   "metadata": {},
   "outputs": [],
   "source": [
    "df = df[df['status'] == True]  "
   ]
  },
  {
   "cell_type": "code",
   "execution_count": 129,
   "metadata": {},
   "outputs": [],
   "source": [
    "df = df[categories]"
   ]
  },
  {
   "cell_type": "code",
   "execution_count": null,
   "metadata": {},
   "outputs": [],
   "source": []
  }
 ],
 "metadata": {
  "kernelspec": {
   "display_name": "Python 3",
   "language": "python",
   "name": "python3"
  },
  "language_info": {
   "codemirror_mode": {
    "name": "ipython",
    "version": 3
   },
   "file_extension": ".py",
   "mimetype": "text/x-python",
   "name": "python",
   "nbconvert_exporter": "python",
   "pygments_lexer": "ipython3",
   "version": "3.6.6"
  }
 },
 "nbformat": 4,
 "nbformat_minor": 2
}
